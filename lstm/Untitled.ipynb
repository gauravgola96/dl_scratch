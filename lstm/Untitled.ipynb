{
 "cells": [
  {
   "cell_type": "code",
   "execution_count": 1,
   "metadata": {},
   "outputs": [],
   "source": [
    "import numpy as np\n",
    "%matplotlib inline\n",
    "import numpy as np\n",
    "import matplotlib.pyplot as plt\n",
    "from IPython import display\n",
    "plt.style.use('seaborn-white')"
   ]
  },
  {
   "cell_type": "code",
   "execution_count": 4,
   "metadata": {},
   "outputs": [
    {
     "name": "stdout",
     "output_type": "stream",
     "text": [
      "data has 99992 characters, 62 unique\n"
     ]
    }
   ],
   "source": [
    "data = open('input.txt', 'r').read()\n",
    "\n",
    "chars = list(set(data))\n",
    "data_size, X_size = len(data), len(chars)\n",
    "print(\"data has %d characters, %d unique\" % (data_size, X_size))\n",
    "char_to_idx = {ch:i for i,ch in enumerate(chars)}\n",
    "idx_to_char = {i:ch for i,ch in enumerate(chars)}\n",
    "\n",
    "\n",
    "#Constants and hyperparameters\n",
    "\n",
    "H_size = 100 # Size of the hidden layer\n",
    "T_steps = 25 # Number of time steps (length of the sequence) used for training\n",
    "learning_rate = 1e-1 # Learning rate\n",
    "weight_sd = 0.1 # Standard deviation of weights for initialization\n",
    "z_size = H_size + X_size # Size of concatenate(H, X) vector\n"
   ]
  },
  {
   "cell_type": "code",
   "execution_count": 29,
   "metadata": {},
   "outputs": [],
   "source": [
    "#Activation functions and its derivative \n",
    "\n",
    "def sigmoid(x):\n",
    "    return (1/(1+np.exp(-x)))\n",
    "\n",
    "def tanh(x):\n",
    "    return np.tanh(x)\n",
    "\n",
    "def derivative_sigmoid(sigma):\n",
    "    derv = sigma(1-sigma)\n",
    "    return derv\n",
    "\n",
    "def derivative_tanh(value):\n",
    "    return (1-value**2)\n",
    "\n",
    "\n",
    "def softmax(v): \n",
    "    return np.exp(v)/np.sum(np.exp(v))\n"
   ]
  },
  {
   "cell_type": "code",
   "execution_count": 19,
   "metadata": {},
   "outputs": [],
   "source": [
    "class Param:\n",
    "    def __init__(self,name,value):\n",
    "        self.name = name\n",
    "        self.v = value\n",
    "        self.d = np.zeros_like(value) # derivative \n",
    "        self.m = np.zeros_like(value) #momentum \n",
    "        "
   ]
  },
  {
   "cell_type": "code",
   "execution_count": 27,
   "metadata": {},
   "outputs": [],
   "source": [
    "#We use random weights with normal distribution (0, weight_sd) for  \n",
    "#tanh  activation function and (0.5, weight_sd) for  sigmoid  activation function.\n",
    "\n",
    "class Parameters:\n",
    "    \n",
    "    def __init__(self):\n",
    "        \n",
    "        self.W_f = Param('W_f',np.random.rand(H_size,z_size) * weight_sd + 0.5)\n",
    "                \n",
    "        self.b_f = Param('b_f',np.zeros((H_size,1)))\n",
    "\n",
    "        self.W_i = Param('W_i',np.random.randn(H_size,z_size) * weight_sd + 0.5)\n",
    "        \n",
    "        self.b_i = Param('b_i',np.zeros((H_size,1)))\n",
    "        \n",
    "        self.W_c = Param('W_c',np.random.randn(H_size,z_size) * weight_sd)\n",
    "\n",
    "        self.b_c = Param('b_c',np.zeros((H_size,1)))\n",
    "        \n",
    "        self.W_o = Param('W_o',np.random.randn(H_size,z_size) *weight_sd + 0.5)\n",
    "\n",
    "        self.b_o = Param('b_o',np.zeros((H_size,1)))\n",
    "        \n",
    "        #for final layer \n",
    "        \n",
    "        self.W_v = Param('W_v',\n",
    "                         np.random.randn(X_size, H_size) * weight_sd)\n",
    "        self.b_v = Param('b_v',\n",
    "                         np.zeros((X_size, 1)))\n",
    "        \n",
    "        \n",
    "    def all_layers(self):\n",
    "        return [self.W_f, self.W_i, self.W_C, self.W_o, self.W_v,\n",
    "               self.b_f, self.b_i, self.b_c, self.b_o, self.b_v]\n",
    "    "
   ]
  },
  {
   "cell_type": "code",
   "execution_count": 28,
   "metadata": {},
   "outputs": [],
   "source": [
    "parameters = Parameters()"
   ]
  },
  {
   "cell_type": "code",
   "execution_count": 32,
   "metadata": {},
   "outputs": [],
   "source": [
    "def forward(x,h_prev,C_prev,p = Parameters):\n",
    "    \n",
    "    z = np.row_stack(h_prev,x)\n",
    "    ft = sigmoid(np.dot(p.W_f.v,z) + p.b_f.v)\n",
    "    it = sigmoid(np.dot(p.W_i.v,z) + p.b_i.v)\n",
    "    \n",
    "    ct = tanh(np.dot(p.W_c.v,z) + p.b_c.v)\n",
    "    \n",
    "    C = ft*C_prev + it*ct\n",
    "    \n",
    "    ot = sigmoid(np.dot(p.W_o.v ,z) + p.b_o.v)\n",
    "    \n",
    "    ht = ot * tanh(C)\n",
    "    \n",
    "    vt = np.dot(p.W_v.v,ht) + p.b_v.v\n",
    "    \n",
    "    y = softmax(vt)\n",
    "    \n",
    "    return z ,ft,it,ct,C,ht,vt,y\n"
   ]
  },
  {
   "cell_type": "code",
   "execution_count": null,
   "metadata": {},
   "outputs": [],
   "source": []
  },
  {
   "cell_type": "code",
   "execution_count": null,
   "metadata": {},
   "outputs": [],
   "source": [
    "def Backward(target, dh_next, dC_next, C_prev,z, f, i, C_bar, C, o, h, v, y,\n",
    "             p = parameters):\n",
    "    \n",
    "    dv = np.copy(v)\n",
    "    dv[target] -= 1\n",
    "    \n",
    "    \n",
    "    \n",
    "    \n",
    "    "
   ]
  },
  {
   "cell_type": "code",
   "execution_count": null,
   "metadata": {},
   "outputs": [],
   "source": []
  },
  {
   "cell_type": "code",
   "execution_count": null,
   "metadata": {},
   "outputs": [],
   "source": []
  },
  {
   "cell_type": "code",
   "execution_count": null,
   "metadata": {},
   "outputs": [],
   "source": []
  },
  {
   "cell_type": "code",
   "execution_count": null,
   "metadata": {},
   "outputs": [],
   "source": []
  },
  {
   "cell_type": "code",
   "execution_count": null,
   "metadata": {},
   "outputs": [],
   "source": []
  },
  {
   "cell_type": "code",
   "execution_count": null,
   "metadata": {},
   "outputs": [],
   "source": []
  },
  {
   "cell_type": "code",
   "execution_count": null,
   "metadata": {},
   "outputs": [],
   "source": []
  },
  {
   "cell_type": "code",
   "execution_count": null,
   "metadata": {},
   "outputs": [],
   "source": []
  },
  {
   "cell_type": "code",
   "execution_count": null,
   "metadata": {},
   "outputs": [],
   "source": []
  },
  {
   "cell_type": "code",
   "execution_count": null,
   "metadata": {},
   "outputs": [],
   "source": []
  },
  {
   "cell_type": "code",
   "execution_count": null,
   "metadata": {},
   "outputs": [],
   "source": []
  },
  {
   "cell_type": "code",
   "execution_count": null,
   "metadata": {},
   "outputs": [],
   "source": []
  },
  {
   "cell_type": "code",
   "execution_count": null,
   "metadata": {},
   "outputs": [],
   "source": []
  },
  {
   "cell_type": "code",
   "execution_count": null,
   "metadata": {},
   "outputs": [],
   "source": []
  },
  {
   "cell_type": "code",
   "execution_count": null,
   "metadata": {},
   "outputs": [],
   "source": []
  },
  {
   "cell_type": "code",
   "execution_count": null,
   "metadata": {},
   "outputs": [],
   "source": []
  },
  {
   "cell_type": "code",
   "execution_count": null,
   "metadata": {},
   "outputs": [],
   "source": []
  },
  {
   "cell_type": "code",
   "execution_count": null,
   "metadata": {},
   "outputs": [],
   "source": []
  },
  {
   "cell_type": "code",
   "execution_count": null,
   "metadata": {},
   "outputs": [],
   "source": []
  }
 ],
 "metadata": {
  "kernelspec": {
   "display_name": "Python 3",
   "language": "python",
   "name": "python3"
  },
  "language_info": {
   "codemirror_mode": {
    "name": "ipython",
    "version": 2
   },
   "file_extension": ".py",
   "mimetype": "text/x-python",
   "name": "python",
   "nbconvert_exporter": "python",
   "pygments_lexer": "ipython2",
   "version": "2.7.15+"
  }
 },
 "nbformat": 4,
 "nbformat_minor": 2
}
